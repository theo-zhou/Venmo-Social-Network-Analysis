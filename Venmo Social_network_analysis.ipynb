{
  "nbformat": 4,
  "nbformat_minor": 0,
  "metadata": {
    "colab": {
      "name": "Copy of Venmo -part 2 social network analysis.ipynb",
      "provenance": [],
      "collapsed_sections": []
    },
    "kernelspec": {
      "display_name": "Python 3",
      "name": "python3"
    },
    "language_info": {
      "name": "python"
    }
  },
  "cells": [
    {
      "cell_type": "code",
      "metadata": {
        "colab": {
          "base_uri": "https://localhost:8080/"
        },
        "id": "OaPoDVVRbZB_",
        "outputId": "4d64739a-8f4c-40fe-9364-6d3697afe941"
      },
      "source": [
        "#conda config --add channels conda-forge\n",
        "! pip install python-snappy\n",
        "! pip install fastparquet\n",
        "! pip install gsheets\n",
        "\n",
        "import numpy as np\n",
        "import pandas as pd\n",
        "from google.colab import files\n",
        "#from fastparquet import ParquetFile\n"
      ],
      "execution_count": null,
      "outputs": [
        {
          "output_type": "stream",
          "text": [
            "Collecting python-snappy\n",
            "\u001b[?25l  Downloading https://files.pythonhosted.org/packages/df/bd/a1040e2e04df42fb07e080e74f6464f6a5898bdefe6d08a210e3c3278fb9/python_snappy-0.6.0-cp37-cp37m-manylinux2010_x86_64.whl (55kB)\n",
            "\r\u001b[K     |██████                          | 10kB 14.7MB/s eta 0:00:01\r\u001b[K     |███████████▉                    | 20kB 8.7MB/s eta 0:00:01\r\u001b[K     |█████████████████▉              | 30kB 8.0MB/s eta 0:00:01\r\u001b[K     |███████████████████████▊        | 40kB 7.5MB/s eta 0:00:01\r\u001b[K     |█████████████████████████████▋  | 51kB 4.1MB/s eta 0:00:01\r\u001b[K     |████████████████████████████████| 61kB 2.9MB/s \n",
            "\u001b[?25hInstalling collected packages: python-snappy\n",
            "Successfully installed python-snappy-0.6.0\n",
            "Collecting fastparquet\n",
            "\u001b[?25l  Downloading https://files.pythonhosted.org/packages/15/f9/6e0bf569b21afc5d5c2702722a5ec5dab744e5e1c2a2369ddc0641710dd5/fastparquet-0.6.2.tar.gz (318kB)\n",
            "\u001b[K     |████████████████████████████████| 327kB 4.1MB/s \n",
            "\u001b[?25hRequirement already satisfied: pandas>=1.1.0 in /usr/local/lib/python3.7/dist-packages (from fastparquet) (1.1.5)\n",
            "Requirement already satisfied: numpy>=1.11 in /usr/local/lib/python3.7/dist-packages (from fastparquet) (1.19.5)\n",
            "Collecting thrift>=0.11.0\n",
            "\u001b[?25l  Downloading https://files.pythonhosted.org/packages/97/1e/3284d19d7be99305eda145b8aa46b0c33244e4a496ec66440dac19f8274d/thrift-0.13.0.tar.gz (59kB)\n",
            "\u001b[K     |████████████████████████████████| 61kB 6.2MB/s \n",
            "\u001b[?25hCollecting cramjam>=2.3.0\n",
            "\u001b[?25l  Downloading https://files.pythonhosted.org/packages/0b/c8/cd86a067cd48c479e8b8a83967fff046aa11dd734af5f83d96df6c45fcd4/cramjam-2.3.0-cp37-cp37m-manylinux2010_x86_64.whl (1.4MB)\n",
            "\u001b[K     |████████████████████████████████| 1.4MB 32.7MB/s \n",
            "\u001b[?25hCollecting fsspec\n",
            "\u001b[?25l  Downloading https://files.pythonhosted.org/packages/e9/91/2ef649137816850fa4f4c97c6f2eabb1a79bf0aa2c8ed198e387e373455e/fsspec-2021.4.0-py3-none-any.whl (108kB)\n",
            "\u001b[K     |████████████████████████████████| 112kB 46.2MB/s \n",
            "\u001b[?25hRequirement already satisfied: pytz>=2017.2 in /usr/local/lib/python3.7/dist-packages (from pandas>=1.1.0->fastparquet) (2018.9)\n",
            "Requirement already satisfied: python-dateutil>=2.7.3 in /usr/local/lib/python3.7/dist-packages (from pandas>=1.1.0->fastparquet) (2.8.1)\n",
            "Requirement already satisfied: six>=1.7.2 in /usr/local/lib/python3.7/dist-packages (from thrift>=0.11.0->fastparquet) (1.15.0)\n",
            "Building wheels for collected packages: fastparquet, thrift\n",
            "  Building wheel for fastparquet (setup.py) ... \u001b[?25l\u001b[?25hdone\n",
            "  Created wheel for fastparquet: filename=fastparquet-0.6.2-cp37-cp37m-linux_x86_64.whl size=901828 sha256=8ee01a95f1443556de004716fe817e81fab13daba9638accfc224fdc8e699911\n",
            "  Stored in directory: /root/.cache/pip/wheels/23/c8/88/38e27d1e0ad5d8d63aedfe619894d24442c226dbae2f76304b\n",
            "  Building wheel for thrift (setup.py) ... \u001b[?25l\u001b[?25hdone\n",
            "  Created wheel for thrift: filename=thrift-0.13.0-cp37-cp37m-linux_x86_64.whl size=348132 sha256=1663cbc52563359127017d335f0d62a4da79d54cd85a58ad882ecb67978de0f0\n",
            "  Stored in directory: /root/.cache/pip/wheels/02/a2/46/689ccfcf40155c23edc7cdbd9de488611c8fdf49ff34b1706e\n",
            "Successfully built fastparquet thrift\n",
            "Installing collected packages: thrift, cramjam, fsspec, fastparquet\n",
            "Successfully installed cramjam-2.3.0 fastparquet-0.6.2 fsspec-2021.4.0 thrift-0.13.0\n",
            "Collecting gsheets\n",
            "  Downloading https://files.pythonhosted.org/packages/99/7f/819ba0b58eacc73095608404f92f3ca291bf6e46625acbc24925240bf250/gsheets-0.5.1-py2.py3-none-any.whl\n",
            "Requirement already satisfied: oauth2client>=1.5.0 in /usr/local/lib/python3.7/dist-packages (from gsheets) (4.1.3)\n",
            "Requirement already satisfied: google-api-python-client; python_version >= \"3\" in /usr/local/lib/python3.7/dist-packages (from gsheets) (1.12.8)\n",
            "Requirement already satisfied: rsa>=3.1.4 in /usr/local/lib/python3.7/dist-packages (from oauth2client>=1.5.0->gsheets) (4.7.2)\n",
            "Requirement already satisfied: pyasn1-modules>=0.0.5 in /usr/local/lib/python3.7/dist-packages (from oauth2client>=1.5.0->gsheets) (0.2.8)\n",
            "Requirement already satisfied: pyasn1>=0.1.7 in /usr/local/lib/python3.7/dist-packages (from oauth2client>=1.5.0->gsheets) (0.4.8)\n",
            "Requirement already satisfied: six>=1.6.1 in /usr/local/lib/python3.7/dist-packages (from oauth2client>=1.5.0->gsheets) (1.15.0)\n",
            "Requirement already satisfied: httplib2>=0.9.1 in /usr/local/lib/python3.7/dist-packages (from oauth2client>=1.5.0->gsheets) (0.17.4)\n",
            "Requirement already satisfied: google-auth-httplib2>=0.0.3 in /usr/local/lib/python3.7/dist-packages (from google-api-python-client; python_version >= \"3\"->gsheets) (0.0.4)\n",
            "Requirement already satisfied: google-api-core<2dev,>=1.21.0 in /usr/local/lib/python3.7/dist-packages (from google-api-python-client; python_version >= \"3\"->gsheets) (1.26.3)\n",
            "Requirement already satisfied: google-auth>=1.16.0 in /usr/local/lib/python3.7/dist-packages (from google-api-python-client; python_version >= \"3\"->gsheets) (1.30.0)\n",
            "Requirement already satisfied: uritemplate<4dev,>=3.0.0 in /usr/local/lib/python3.7/dist-packages (from google-api-python-client; python_version >= \"3\"->gsheets) (3.0.1)\n",
            "Requirement already satisfied: setuptools>=40.3.0 in /usr/local/lib/python3.7/dist-packages (from google-api-core<2dev,>=1.21.0->google-api-python-client; python_version >= \"3\"->gsheets) (56.1.0)\n",
            "Requirement already satisfied: requests<3.0.0dev,>=2.18.0 in /usr/local/lib/python3.7/dist-packages (from google-api-core<2dev,>=1.21.0->google-api-python-client; python_version >= \"3\"->gsheets) (2.23.0)\n",
            "Requirement already satisfied: protobuf>=3.12.0 in /usr/local/lib/python3.7/dist-packages (from google-api-core<2dev,>=1.21.0->google-api-python-client; python_version >= \"3\"->gsheets) (3.12.4)\n",
            "Requirement already satisfied: pytz in /usr/local/lib/python3.7/dist-packages (from google-api-core<2dev,>=1.21.0->google-api-python-client; python_version >= \"3\"->gsheets) (2018.9)\n",
            "Requirement already satisfied: googleapis-common-protos<2.0dev,>=1.6.0 in /usr/local/lib/python3.7/dist-packages (from google-api-core<2dev,>=1.21.0->google-api-python-client; python_version >= \"3\"->gsheets) (1.53.0)\n",
            "Requirement already satisfied: packaging>=14.3 in /usr/local/lib/python3.7/dist-packages (from google-api-core<2dev,>=1.21.0->google-api-python-client; python_version >= \"3\"->gsheets) (20.9)\n",
            "Requirement already satisfied: cachetools<5.0,>=2.0.0 in /usr/local/lib/python3.7/dist-packages (from google-auth>=1.16.0->google-api-python-client; python_version >= \"3\"->gsheets) (4.2.2)\n",
            "Requirement already satisfied: idna<3,>=2.5 in /usr/local/lib/python3.7/dist-packages (from requests<3.0.0dev,>=2.18.0->google-api-core<2dev,>=1.21.0->google-api-python-client; python_version >= \"3\"->gsheets) (2.10)\n",
            "Requirement already satisfied: chardet<4,>=3.0.2 in /usr/local/lib/python3.7/dist-packages (from requests<3.0.0dev,>=2.18.0->google-api-core<2dev,>=1.21.0->google-api-python-client; python_version >= \"3\"->gsheets) (3.0.4)\n",
            "Requirement already satisfied: certifi>=2017.4.17 in /usr/local/lib/python3.7/dist-packages (from requests<3.0.0dev,>=2.18.0->google-api-core<2dev,>=1.21.0->google-api-python-client; python_version >= \"3\"->gsheets) (2020.12.5)\n",
            "Requirement already satisfied: urllib3!=1.25.0,!=1.25.1,<1.26,>=1.21.1 in /usr/local/lib/python3.7/dist-packages (from requests<3.0.0dev,>=2.18.0->google-api-core<2dev,>=1.21.0->google-api-python-client; python_version >= \"3\"->gsheets) (1.24.3)\n",
            "Requirement already satisfied: pyparsing>=2.0.2 in /usr/local/lib/python3.7/dist-packages (from packaging>=14.3->google-api-core<2dev,>=1.21.0->google-api-python-client; python_version >= \"3\"->gsheets) (2.4.7)\n",
            "Installing collected packages: gsheets\n",
            "Successfully installed gsheets-0.5.1\n"
          ],
          "name": "stdout"
        }
      ]
    },
    {
      "cell_type": "code",
      "metadata": {
        "colab": {
          "base_uri": "https://localhost:8080/"
        },
        "id": "h84zUKiOknCA",
        "outputId": "d22b7919-d6b8-457c-be32-e62c8b4966d1"
      },
      "source": [
        "from google.colab import drive\n",
        "#drive.mount('/content/drive/Shared drives/Venmo Homework 423')\n",
        "drive.mount('/content/drive')"
      ],
      "execution_count": null,
      "outputs": [
        {
          "output_type": "stream",
          "text": [
            "Go to this URL in a browser: https://accounts.google.com/o/oauth2/auth?client_id=947318989803-6bn6qk8qdgf4n4g3pfee6491hc0brc4i.apps.googleusercontent.com&redirect_uri=urn%3aietf%3awg%3aoauth%3a2.0%3aoob&scope=email%20https%3a%2f%2fwww.googleapis.com%2fauth%2fdocs.test%20https%3a%2f%2fwww.googleapis.com%2fauth%2fdrive%20https%3a%2f%2fwww.googleapis.com%2fauth%2fdrive.photos.readonly%20https%3a%2f%2fwww.googleapis.com%2fauth%2fpeopleapi.readonly%20https%3a%2f%2fwww.googleapis.com%2fauth%2fdrive.activity.readonly%20https%3a%2f%2fwww.googleapis.com%2fauth%2fexperimentsandconfigs%20https%3a%2f%2fwww.googleapis.com%2fauth%2fphotos.native&response_type=code\n",
            "\n",
            "Enter your authorization code:\n",
            "4/1AY0e-g5ZDJDxq50k6T2_Nrs2QWETFLXVR58MwLCK5vN9DzkZFNqC9coWQus\n",
            "Mounted at /content/drive\n"
          ],
          "name": "stdout"
        }
      ]
    },
    {
      "cell_type": "markdown",
      "metadata": {
        "id": "1--Hk3NndRwP"
      },
      "source": [
        "#**Social Network Analysis**"
      ]
    },
    {
      "cell_type": "code",
      "metadata": {
        "colab": {
          "base_uri": "https://localhost:8080/"
        },
        "id": "MTjFKNNPVO0x",
        "outputId": "a7ee2127-e76d-4998-d4a1-88d9a259c1eb"
      },
      "source": [
        "!sudo apt-get update"
      ],
      "execution_count": null,
      "outputs": [
        {
          "output_type": "stream",
          "text": [
            "Get:1 https://cloud.r-project.org/bin/linux/ubuntu bionic-cran40/ InRelease [3,626 B]\n",
            "Ign:2 https://developer.download.nvidia.com/compute/cuda/repos/ubuntu1804/x86_64  InRelease\n",
            "Get:3 https://cloud.r-project.org/bin/linux/ubuntu bionic-cran40/ Packages [56.8 kB]\n",
            "Get:4 http://security.ubuntu.com/ubuntu bionic-security InRelease [88.7 kB]\n",
            "Ign:5 https://developer.download.nvidia.com/compute/machine-learning/repos/ubuntu1804/x86_64  InRelease\n",
            "Get:6 https://developer.download.nvidia.com/compute/cuda/repos/ubuntu1804/x86_64  Release [697 B]\n",
            "Get:7 http://ppa.launchpad.net/c2d4u.team/c2d4u4.0+/ubuntu bionic InRelease [15.9 kB]\n",
            "Hit:8 https://developer.download.nvidia.com/compute/machine-learning/repos/ubuntu1804/x86_64  Release\n",
            "Get:9 https://developer.download.nvidia.com/compute/cuda/repos/ubuntu1804/x86_64  Release.gpg [836 B]\n",
            "Hit:11 http://archive.ubuntu.com/ubuntu bionic InRelease\n",
            "0% [11 InRelease gpgv 242 kB] [Waiting for headers] [4 InRelease 43.1 kB/88.7 k^C\n"
          ],
          "name": "stdout"
        }
      ]
    },
    {
      "cell_type": "code",
      "metadata": {
        "colab": {
          "base_uri": "https://localhost:8080/"
        },
        "id": "dXsAl_rIhvdb",
        "outputId": "e296ceab-64b6-4260-ed96-0d8fc26c6218"
      },
      "source": [
        "#To use Spark, run the commands below\n",
        "!apt-get install openjdk-8-jdk-headless -qq > /dev/null\n",
        "!wget -q http://apache.osuosl.org/spark/spark-3.1.1/spark-3.1.1-bin-hadoop3.2.tgz\n",
        "!tar xf spark-3.1.1-bin-hadoop3.2.tgz\n",
        "!pip install -q findspark\n",
        "!pip install pyspark"
      ],
      "execution_count": null,
      "outputs": [
        {
          "output_type": "stream",
          "text": [
            "Collecting pyspark\n",
            "\u001b[?25l  Downloading https://files.pythonhosted.org/packages/45/b0/9d6860891ab14a39d4bddf80ba26ce51c2f9dc4805e5c6978ac0472c120a/pyspark-3.1.1.tar.gz (212.3MB)\n",
            "\u001b[K     |████████████████████████████████| 212.3MB 56kB/s \n",
            "\u001b[?25hCollecting py4j==0.10.9\n",
            "\u001b[?25l  Downloading https://files.pythonhosted.org/packages/9e/b6/6a4fb90cd235dc8e265a6a2067f2a2c99f0d91787f06aca4bcf7c23f3f80/py4j-0.10.9-py2.py3-none-any.whl (198kB)\n",
            "\u001b[K     |████████████████████████████████| 204kB 13.5MB/s \n",
            "\u001b[?25hBuilding wheels for collected packages: pyspark\n",
            "  Building wheel for pyspark (setup.py) ... \u001b[?25l\u001b[?25hdone\n",
            "  Created wheel for pyspark: filename=pyspark-3.1.1-py2.py3-none-any.whl size=212767604 sha256=68ed55ec68fed7916dd550460dd8f70dde485abad14b9f886cba5f90777f1d5d\n",
            "  Stored in directory: /root/.cache/pip/wheels/0b/90/c0/01de724414ef122bd05f056541fb6a0ecf47c7ca655f8b3c0f\n",
            "Successfully built pyspark\n",
            "Installing collected packages: py4j, pyspark\n",
            "Successfully installed py4j-0.10.9 pyspark-3.1.1\n"
          ],
          "name": "stdout"
        }
      ]
    },
    {
      "cell_type": "code",
      "metadata": {
        "id": "EfSO4bdiV3Hv"
      },
      "source": [
        "import os\n",
        "os.environ[\"JAVA_HOME\"] = \"/usr/lib/jvm/java-8-openjdk-amd64\"\n",
        "os.environ[\"SPARK_HOME\"] = \"/content/spark-3.1.1-bin-hadoop3.2\""
      ],
      "execution_count": null,
      "outputs": []
    },
    {
      "cell_type": "code",
      "metadata": {
        "id": "UtJZm9tidVWM"
      },
      "source": [
        "import findspark\n",
        "findspark.init()\n",
        "from pyspark.sql import SparkSession\n",
        "spark = SparkSession\\\n",
        "        .builder\\\n",
        "        .getOrCreate()"
      ],
      "execution_count": null,
      "outputs": []
    },
    {
      "cell_type": "code",
      "metadata": {
        "colab": {
          "base_uri": "https://localhost:8080/"
        },
        "id": "OV1rDVS5Ymuq",
        "outputId": "1244abf8-420b-4711-a119-01ed92423c45"
      },
      "source": [
        "dff = spark.read.parquet(\"/content/drive/Shareddrives/Venmo Homework 423/VenmoSample.snappy.parquet\")\n",
        "dff.show()"
      ],
      "execution_count": null,
      "outputs": [
        {
          "output_type": "stream",
          "text": [
            "+--------+-------+----------------+-------------------+--------------------+-----------+--------------------+\n",
            "|   user1|  user2|transaction_type|           datetime|         description|is_business|            story_id|\n",
            "+--------+-------+----------------+-------------------+--------------------+-----------+--------------------+\n",
            "| 1218774|1528945|         payment|2015-11-27 10:48:19|                Uber|      false|5657c473cd03c9af2...|\n",
            "| 5109483|4782303|         payment|2015-06-17 11:37:04|              Costco|      false|5580f9702b64f70ab...|\n",
            "| 4322148|3392963|         payment|2015-06-19 07:05:31|        Sweaty balls|      false|55835ccb1a624b14a...|\n",
            "|  469894|1333620|          charge|2016-06-03 23:34:13|                  🎥|      false|5751b185cd03c9af2...|\n",
            "| 2960727|3442373|         payment|2016-05-29 23:23:42|                   ⚡|      false|574b178ecd03c9af2...|\n",
            "| 3977544|2709470|         payment|2016-09-29 22:12:07|          Chipotlaid|      false|57ed2f4723e064eac...|\n",
            "| 3766386|4209061|         payment|2016-05-20 10:31:15|     kitchen counter|      false|573e8503cd03c9af2...|\n",
            "|  730075| 804466|         payment|2016-05-26 04:46:45|                Food|      false|57461d46cd03c9af2...|\n",
            "| 5221751|4993533|         payment|2016-07-14 22:53:49|               Zaxby|      false|5787b58d23e064eac...|\n",
            "| 6843582|7308338|         payment|2016-08-31 10:32:46|           Fan sucks|      false|57c64fdf23e064eac...|\n",
            "| 5317324|3942984|         payment|2016-01-04 09:11:25|                  👠|      false|5689c6bdcd03c9af2...|\n",
            "| 1134661|1556430|         payment|2015-10-09 01:53:52|         Thanks babe|      false|5616bbc0cd03c9af2...|\n",
            "| 4238868|4879587|         payment|2015-10-04 08:28:01|                  🍺|      false|561080a1cd03c9af2...|\n",
            "|11719500|8702716|         payment|2016-07-07 21:40:39|                   ⛽|      false|577e69e723e064eac...|\n",
            "| 3625798|5692302|         payment|2016-10-16 14:43:41|Hey man  it's bee...|      false|58032fad23e064eac...|\n",
            "|  613908|3045405|          charge|2016-05-07 06:42:17|         Getaway car|      false|572d2bd9cd03c9af2...|\n",
            "| 4682257|1870271|         payment|2016-02-24 09:14:12|     🔮 gypsy things|      false|56cd03e4cd03c9af2...|\n",
            "| 9414481|2869012|         payment|2016-04-09 09:19:46|                  🔴|      false|570866c2cd03c9af2...|\n",
            "|  241386|2580543|         payment|2015-05-17 06:00:19|           Furniture|      false|5557cc0407f81c33e...|\n",
            "|  656477| 656214|          charge|2013-12-14 22:43:27|bed bath mostly b...|      false|52ac6e93d56b6bac5...|\n",
            "+--------+-------+----------------+-------------------+--------------------+-----------+--------------------+\n",
            "only showing top 20 rows\n",
            "\n"
          ],
          "name": "stdout"
        }
      ]
    },
    {
      "cell_type": "markdown",
      "metadata": {
        "id": "cFzZacIxTE49"
      },
      "source": [
        "## Q1\n",
        "Write a script to find a user’s friendsand friends of friends (Friend definition:Auser’s friend is someone who has transacted with theuser,either sending money to the user orreceiving money from the user)."
      ]
    },
    {
      "cell_type": "code",
      "metadata": {
        "id": "EcUHPrON433g"
      },
      "source": [
        "dff.createOrReplaceTempView(\"transaction\")"
      ],
      "execution_count": null,
      "outputs": []
    },
    {
      "cell_type": "code",
      "metadata": {
        "colab": {
          "base_uri": "https://localhost:8080/"
        },
        "id": "B9GKQcXt4_Rn",
        "outputId": "aa10818c-1766-433f-cfdf-9bfb384b763f"
      },
      "source": [
        "#friend\n",
        "friend = spark.sql(\"\"\"SELECT DISTINCT user1, user2 \n",
        "FROM transaction\n",
        "UNION\n",
        "SELECT DISTINCT user2, user1\n",
        "FROM transaction\n",
        "ORDER BY user1, user2\n",
        "\"\"\")\n",
        "friend.show()\n",
        "print()\n",
        "\n"
      ],
      "execution_count": null,
      "outputs": [
        {
          "output_type": "stream",
          "text": [
            "+-----+-------+\n",
            "|user1|  user2|\n",
            "+-----+-------+\n",
            "|    2|     43|\n",
            "|    2|    220|\n",
            "|    2| 191142|\n",
            "|    3|     43|\n",
            "|    3|     52|\n",
            "|    3| 263437|\n",
            "|    3| 567957|\n",
            "|    3|1079020|\n",
            "|    3|1204190|\n",
            "|    3|2382556|\n",
            "|    3|7854140|\n",
            "|    4| 122744|\n",
            "|    4| 125527|\n",
            "|    4| 125755|\n",
            "|    4| 187560|\n",
            "|    4| 221578|\n",
            "|    4| 968271|\n",
            "|    4|9271982|\n",
            "|    6| 676003|\n",
            "|    6| 688883|\n",
            "+-----+-------+\n",
            "only showing top 20 rows\n",
            "\n",
            "\n"
          ],
          "name": "stdout"
        }
      ]
    },
    {
      "cell_type": "code",
      "metadata": {
        "colab": {
          "base_uri": "https://localhost:8080/"
        },
        "id": "y8aqC4K1ccav",
        "outputId": "1e45250b-70bd-47c7-83e1-97d1c689f532"
      },
      "source": [
        "# friends' friend\n",
        "friend.createOrReplaceTempView(\"friend\")\n",
        "friend2 = spark.sql(\"\"\"SELECT a.user2, b.user1\n",
        "FROM friend a INNER JOIN friend b ON a.user1 = b.user2\n",
        "WHERE a.user2 != b.user1\n",
        "ORDER BY a.user2, b.user1\n",
        "\"\"\")\n",
        "friend2.show()\n"
      ],
      "execution_count": null,
      "outputs": [
        {
          "output_type": "stream",
          "text": [
            "+-----+------+\n",
            "|user2| user1|\n",
            "+-----+------+\n",
            "|    2|     3|\n",
            "|    2|    10|\n",
            "|    2|    19|\n",
            "|    2|    96|\n",
            "|    2|   629|\n",
            "|    2|  3565|\n",
            "|    2| 20530|\n",
            "|    2| 20639|\n",
            "|    2| 47104|\n",
            "|    2| 49778|\n",
            "|    2| 55895|\n",
            "|    2| 72106|\n",
            "|    2| 82697|\n",
            "|    2|183628|\n",
            "|    2|276439|\n",
            "|    2|297967|\n",
            "|    2|307603|\n",
            "|    2|316862|\n",
            "|    2|613769|\n",
            "|    2|851628|\n",
            "+-----+------+\n",
            "only showing top 20 rows\n",
            "\n"
          ],
          "name": "stdout"
        }
      ]
    },
    {
      "cell_type": "markdown",
      "metadata": {
        "id": "5EGIyAzKIA-6"
      },
      "source": [
        "## Q6\n",
        "Now, that you have the list of each user’sfriends and friends of friends, you are inposition to calculate many social network variables.Use the dynamic analysis, andcalculate the following social network metrics acrossa user’s lifetime in Venmo (from 0 up to 12months). "
      ]
    },
    {
      "cell_type": "markdown",
      "metadata": {
        "id": "cPgmRYiCTrsd"
      },
      "source": [
        "Number of friends and number of friends of friends"
      ]
    },
    {
      "cell_type": "code",
      "metadata": {
        "colab": {
          "base_uri": "https://localhost:8080/"
        },
        "id": "FTOUKTn1IFi8",
        "outputId": "00091ec9-556d-43c2-bdce-972ffcdb0e40"
      },
      "source": [
        "#i.\n",
        "transaction0 = spark.sql(\"\"\"SELECT DISTINCT user1, user2, datetime  \n",
        "FROM transaction\n",
        "UNION\n",
        "SELECT DISTINCT user2, user1, datetime\n",
        "FROM transaction\n",
        "ORDER BY user1, user2\n",
        "\"\"\")\n",
        "transaction0.show()"
      ],
      "execution_count": null,
      "outputs": [
        {
          "output_type": "stream",
          "text": [
            "+-----+-------+-------------------+\n",
            "|user1|  user2|           datetime|\n",
            "+-----+-------+-------------------+\n",
            "|    2|     43|2016-09-07 07:53:16|\n",
            "|    2|     43|2016-04-09 09:29:31|\n",
            "|    2|    220|2012-11-23 06:03:42|\n",
            "|    2| 191142|2016-09-26 09:56:55|\n",
            "|    3|     43|2016-06-27 01:14:37|\n",
            "|    3|     52|2016-09-22 15:30:09|\n",
            "|    3| 263437|2016-07-22 21:16:37|\n",
            "|    3| 567957|2016-10-29 09:28:07|\n",
            "|    3|1079020|2016-10-07 23:37:56|\n",
            "|    3|1204190|2016-10-09 01:56:24|\n",
            "|    3|2382556|2016-10-06 10:49:45|\n",
            "|    3|2382556|2016-10-07 08:50:23|\n",
            "|    3|7854140|2016-10-09 03:36:13|\n",
            "|    4| 122744|2012-12-03 03:35:53|\n",
            "|    4| 125527|2012-12-10 10:27:55|\n",
            "|    4| 125527|2012-12-15 05:51:12|\n",
            "|    4| 125755|2013-01-04 10:20:36|\n",
            "|    4| 187560|2015-06-17 09:23:30|\n",
            "|    4| 221578|2016-04-17 03:35:09|\n",
            "|    4| 968271|2014-02-04 06:51:33|\n",
            "+-----+-------+-------------------+\n",
            "only showing top 20 rows\n",
            "\n"
          ],
          "name": "stdout"
        }
      ]
    },
    {
      "cell_type": "code",
      "metadata": {
        "colab": {
          "base_uri": "https://localhost:8080/"
        },
        "id": "-vNWj706MwLy",
        "outputId": "66860b2d-0282-4ae4-cd17-799c5b9effc6"
      },
      "source": [
        "transaction0.createOrReplaceTempView(\"transaction0\")\n",
        "transaction1 = spark.sql(\"\"\"SELECT DISTINCT user1, user2, \n",
        "FIRST_VALUE(datetime) OVER(PARTITION BY user1 ORDER BY datetime ASC) as user1_first, \n",
        "FIRST_VALUE(datetime) OVER(PARTITION BY user1, user2 ORDER BY datetime ASC) as user12_first\n",
        "FROM transaction0\n",
        "ORDER BY user1, user2, user1_first, user12_first\n",
        "\"\"\")\n",
        "transaction1.show()"
      ],
      "execution_count": null,
      "outputs": [
        {
          "output_type": "stream",
          "text": [
            "+-----+-------+-------------------+-------------------+\n",
            "|user1|  user2|        user1_first|       user12_first|\n",
            "+-----+-------+-------------------+-------------------+\n",
            "|    2|     43|2012-11-23 06:03:42|2016-04-09 09:29:31|\n",
            "|    2|    220|2012-11-23 06:03:42|2012-11-23 06:03:42|\n",
            "|    2| 191142|2012-11-23 06:03:42|2016-09-26 09:56:55|\n",
            "|    3|     43|2016-06-27 01:14:37|2016-06-27 01:14:37|\n",
            "|    3|     52|2016-06-27 01:14:37|2016-09-22 15:30:09|\n",
            "|    3| 263437|2016-06-27 01:14:37|2016-07-22 21:16:37|\n",
            "|    3| 567957|2016-06-27 01:14:37|2016-10-29 09:28:07|\n",
            "|    3|1079020|2016-06-27 01:14:37|2016-10-07 23:37:56|\n",
            "|    3|1204190|2016-06-27 01:14:37|2016-10-09 01:56:24|\n",
            "|    3|2382556|2016-06-27 01:14:37|2016-10-06 10:49:45|\n",
            "|    3|7854140|2016-06-27 01:14:37|2016-10-09 03:36:13|\n",
            "|    4| 122744|2012-12-03 03:35:53|2012-12-03 03:35:53|\n",
            "|    4| 125527|2012-12-03 03:35:53|2012-12-10 10:27:55|\n",
            "|    4| 125755|2012-12-03 03:35:53|2013-01-04 10:20:36|\n",
            "|    4| 187560|2012-12-03 03:35:53|2015-06-17 09:23:30|\n",
            "|    4| 221578|2012-12-03 03:35:53|2016-04-17 03:35:09|\n",
            "|    4| 968271|2012-12-03 03:35:53|2014-02-04 06:51:33|\n",
            "|    4|9271982|2012-12-03 03:35:53|2016-03-03 12:45:57|\n",
            "|    6| 676003|2014-06-28 00:18:16|2014-06-28 00:18:16|\n",
            "|    6| 688883|2014-06-28 00:18:16|2016-05-02 23:47:32|\n",
            "+-----+-------+-------------------+-------------------+\n",
            "only showing top 20 rows\n",
            "\n"
          ],
          "name": "stdout"
        }
      ]
    },
    {
      "cell_type": "code",
      "metadata": {
        "colab": {
          "base_uri": "https://localhost:8080/"
        },
        "id": "Um9QCANnQ9N_",
        "outputId": "202c7b14-52ac-47cb-e541-1b320f1aaaa3"
      },
      "source": [
        "transaction1.createOrReplaceTempView(\"transaction1\")\n",
        "transaction2 = spark.sql(\"\"\"SELECT *, CEILING(MONTHS_BETWEEN(user12_first, user1_first)) age\n",
        "FROM transaction1\n",
        "WHERE CEILING(MONTHS_BETWEEN(user12_first, user1_first)) <= 12\n",
        "ORDER BY user1, age\n",
        "\"\"\")\n",
        "transaction2.show()"
      ],
      "execution_count": null,
      "outputs": [
        {
          "output_type": "stream",
          "text": [
            "+-----+-------+-------------------+-------------------+---+\n",
            "|user1|  user2|        user1_first|       user12_first|age|\n",
            "+-----+-------+-------------------+-------------------+---+\n",
            "|    2|    220|2012-11-23 06:03:42|2012-11-23 06:03:42|  0|\n",
            "|    3|     43|2016-06-27 01:14:37|2016-06-27 01:14:37|  0|\n",
            "|    3| 263437|2016-06-27 01:14:37|2016-07-22 21:16:37|  1|\n",
            "|    3|     52|2016-06-27 01:14:37|2016-09-22 15:30:09|  3|\n",
            "|    3|1079020|2016-06-27 01:14:37|2016-10-07 23:37:56|  4|\n",
            "|    3|2382556|2016-06-27 01:14:37|2016-10-06 10:49:45|  4|\n",
            "|    3|1204190|2016-06-27 01:14:37|2016-10-09 01:56:24|  4|\n",
            "|    3|7854140|2016-06-27 01:14:37|2016-10-09 03:36:13|  4|\n",
            "|    3| 567957|2016-06-27 01:14:37|2016-10-29 09:28:07|  5|\n",
            "|    4| 122744|2012-12-03 03:35:53|2012-12-03 03:35:53|  0|\n",
            "|    4| 125527|2012-12-03 03:35:53|2012-12-10 10:27:55|  1|\n",
            "|    4| 125755|2012-12-03 03:35:53|2013-01-04 10:20:36|  2|\n",
            "|    6| 676003|2014-06-28 00:18:16|2014-06-28 00:18:16|  0|\n",
            "|    6|4330489|2014-06-28 00:18:16|2015-04-14 04:34:23| 10|\n",
            "|    8| 900433|2015-08-11 02:08:47|2015-08-11 02:08:47|  0|\n",
            "|    8| 659067|2015-08-11 02:08:47|2016-02-10 11:55:25|  6|\n",
            "|    9|    243|2012-06-28 04:28:32|2012-06-28 04:28:32|  0|\n",
            "|   10|    255|2012-11-25 09:20:39|2012-11-25 09:20:39|  0|\n",
            "|   10|     43|2012-11-25 09:20:39|2012-12-23 11:08:45|  1|\n",
            "|   10|     13|2012-11-25 09:20:39|2013-04-13 00:19:10|  5|\n",
            "+-----+-------+-------------------+-------------------+---+\n",
            "only showing top 20 rows\n",
            "\n"
          ],
          "name": "stdout"
        }
      ]
    },
    {
      "cell_type": "code",
      "metadata": {
        "colab": {
          "base_uri": "https://localhost:8080/"
        },
        "id": "8RtZc5u6VdvQ",
        "outputId": "c149dfae-9bd3-4ab0-f399-65393284dd76"
      },
      "source": [
        "#numbers of friends \n",
        "transaction2.createOrReplaceTempView(\"transaction2\")\n",
        "friendsnum = spark.sql(\"\"\"SELECT DISTINCT user1, age, COUNT(user2) OVER (PARTITION BY user1 ORDER BY age RANGE BETWEEN UNBOUNDED PRECEDING AND CURRENT ROW) AS friends_num\n",
        "FROM transaction2\n",
        "ORDER BY user1, age\n",
        "\"\"\")\n",
        "friendsnum.show()"
      ],
      "execution_count": null,
      "outputs": [
        {
          "output_type": "stream",
          "text": [
            "+-----+---+-----------+\n",
            "|user1|age|friends_num|\n",
            "+-----+---+-----------+\n",
            "|    2|  0|          1|\n",
            "|    3|  0|          1|\n",
            "|    3|  1|          2|\n",
            "|    3|  3|          3|\n",
            "|    3|  4|          7|\n",
            "|    3|  5|          8|\n",
            "|    4|  0|          1|\n",
            "|    4|  1|          2|\n",
            "|    4|  2|          3|\n",
            "|    6|  0|          1|\n",
            "|    6| 10|          2|\n",
            "|    8|  0|          1|\n",
            "|    8|  6|          2|\n",
            "|    9|  0|          1|\n",
            "|   10|  0|          1|\n",
            "|   10|  1|          2|\n",
            "|   10|  5|          4|\n",
            "|   10|  8|          5|\n",
            "|   11|  0|          1|\n",
            "|   11|  1|          2|\n",
            "+-----+---+-----------+\n",
            "only showing top 20 rows\n",
            "\n"
          ],
          "name": "stdout"
        }
      ]
    },
    {
      "cell_type": "code",
      "metadata": {
        "colab": {
          "base_uri": "https://localhost:8080/"
        },
        "id": "PiWhCHWUbbY_",
        "outputId": "4b0927b6-30de-4fde-88fa-3bf1901666c1"
      },
      "source": [
        "\n",
        "transaction3 = spark.sql(\"\"\"SELECT a.user1, a.user2, b.user2 AS user3, CEILING(MONTHS_BETWEEN(b.user12_first, a.user1_first)) age FROM\n",
        "transaction1 a \n",
        "INNER JOIN transaction1 b\n",
        "ON a.user2 = b.user1\n",
        "WHERE CEILING(MONTHS_BETWEEN(b.user12_first, a.user1_first)) >= 0\n",
        "AND CEILING(MONTHS_BETWEEN(b.user12_first, a.user1_first)) <= 12\n",
        "ORDER BY a.user1, a.user2, b.user2, age\n",
        "\"\"\")\n",
        "transaction3.show()"
      ],
      "execution_count": null,
      "outputs": [
        {
          "output_type": "stream",
          "text": [
            "+-----+-------+--------+---+\n",
            "|user1|  user2|   user3|age|\n",
            "+-----+-------+--------+---+\n",
            "|    2|     43|      10|  1|\n",
            "|    2|     43|      96|  7|\n",
            "|    2|     43|     629| 10|\n",
            "|    2|     43|    3565|  9|\n",
            "|    2|     43|   49778|  0|\n",
            "|    2|     43|   82697|  8|\n",
            "|    2|     43|  183628|  6|\n",
            "|    2|    220|       2|  0|\n",
            "|    3|     43|       3|  0|\n",
            "|    3|     52|       3|  3|\n",
            "|    3| 263437|       3|  1|\n",
            "|    3| 567957|       3|  5|\n",
            "|    3|1079020|       3|  4|\n",
            "|    3|1079020|14884139|  5|\n",
            "|    3|1204190|       3|  4|\n",
            "|    3|1204190| 2266248|  0|\n",
            "|    3|2382556|       3|  4|\n",
            "|    3|7854140|       3|  4|\n",
            "|    4| 122744|       4|  0|\n",
            "|    4| 125527|       4|  1|\n",
            "+-----+-------+--------+---+\n",
            "only showing top 20 rows\n",
            "\n"
          ],
          "name": "stdout"
        }
      ]
    },
    {
      "cell_type": "code",
      "metadata": {
        "colab": {
          "base_uri": "https://localhost:8080/"
        },
        "id": "hY88FEfve1Cx",
        "outputId": "c4b2ea9b-f9f1-4c57-925b-3e80de8dd84f"
      },
      "source": [
        "#friends of friends \n",
        "transaction3.createOrReplaceTempView(\"transaction3\")\n",
        "fof = spark.sql(\"\"\"SELECT DISTINCT user1, age, COUNT(user3) OVER (PARTITION BY user1 ORDER BY age RANGE BETWEEN UNBOUNDED PRECEDING AND CURRENT ROW) AS fof_num\n",
        "FROM transaction3\n",
        "ORDER BY user1, age\n",
        "\"\"\")\n",
        "fof.show()"
      ],
      "execution_count": null,
      "outputs": [
        {
          "output_type": "stream",
          "text": [
            "+-----+---+-------+\n",
            "|user1|age|fof_num|\n",
            "+-----+---+-------+\n",
            "|    2|  0|      2|\n",
            "|    2|  1|      3|\n",
            "|    2|  6|      4|\n",
            "|    2|  7|      5|\n",
            "|    2|  8|      6|\n",
            "|    2|  9|      7|\n",
            "|    2| 10|      8|\n",
            "|    3|  0|      2|\n",
            "|    3|  1|      3|\n",
            "|    3|  3|      4|\n",
            "|    3|  4|      8|\n",
            "|    3|  5|     10|\n",
            "|    4|  0|      1|\n",
            "|    4|  1|      2|\n",
            "|    4|  2|      3|\n",
            "|    4|  6|      4|\n",
            "|    4| 12|      5|\n",
            "|    6|  0|      1|\n",
            "|    6| 10|      2|\n",
            "|    8|  0|      1|\n",
            "+-----+---+-------+\n",
            "only showing top 20 rows\n",
            "\n"
          ],
          "name": "stdout"
        }
      ]
    },
    {
      "cell_type": "code",
      "metadata": {
        "id": "cvxACMmtic-6"
      },
      "source": [
        ""
      ],
      "execution_count": null,
      "outputs": []
    },
    {
      "cell_type": "markdown",
      "metadata": {
        "id": "jzKgK8-dT0OM"
      },
      "source": [
        "ii. Clustering coefficient of a user's network"
      ]
    },
    {
      "cell_type": "code",
      "metadata": {
        "colab": {
          "background_save": true
        },
        "id": "IYFFxI3ek5Nq",
        "outputId": "89497c55-ec1f-4238-9789-5d28e8cbcd44"
      },
      "source": [
        "# ii.\n",
        "friendsnum.createOrReplaceTempView(\"friendsnum\")\n",
        "fof.createOrReplaceTempView(\"fof\")\n",
        "main_friend = spark.sql(\"\"\"SELECT friendsnum.user1, friendsnum.friends_num, fof.age, fof.fof_num, (friends_num / fof_num) AS coefficient\n",
        "FROM\n",
        "friendsnum FULL OUTER JOIN fof\n",
        "ON friendsnum.user1 = fof.user1 \n",
        "ORDER BY friendsnum.user1, fof.age\n",
        "\"\"\")\n",
        "main_friend.show()\n"
      ],
      "execution_count": null,
      "outputs": [
        {
          "output_type": "stream",
          "text": [
            "+-----+-----------+---+-------+-------------------+\n",
            "|user1|friends_num|age|fof_num|        coefficient|\n",
            "+-----+-----------+---+-------+-------------------+\n",
            "|    2|          1|  0|      2|                0.5|\n",
            "|    2|          1|  1|      3| 0.3333333333333333|\n",
            "|    2|          1|  6|      4|               0.25|\n",
            "|    2|          1|  7|      5|                0.2|\n",
            "|    2|          1|  8|      6|0.16666666666666666|\n",
            "|    2|          1|  9|      7|0.14285714285714285|\n",
            "|    2|          1| 10|      8|              0.125|\n",
            "|    3|          7|  0|      2|                3.5|\n",
            "|    3|          1|  0|      2|                0.5|\n",
            "|    3|          3|  0|      2|                1.5|\n",
            "|    3|          8|  0|      2|                4.0|\n",
            "|    3|          2|  0|      2|                1.0|\n",
            "|    3|          3|  1|      3|                1.0|\n",
            "|    3|          7|  1|      3| 2.3333333333333335|\n",
            "|    3|          8|  1|      3| 2.6666666666666665|\n",
            "|    3|          1|  1|      3| 0.3333333333333333|\n",
            "|    3|          2|  1|      3| 0.6666666666666666|\n",
            "|    3|          7|  3|      4|               1.75|\n",
            "|    3|          1|  3|      4|               0.25|\n",
            "|    3|          2|  3|      4|                0.5|\n",
            "+-----+-----------+---+-------+-------------------+\n",
            "only showing top 20 rows\n",
            "\n"
          ],
          "name": "stdout"
        }
      ]
    },
    {
      "cell_type": "markdown",
      "metadata": {
        "id": "hWKlWcTIUELh"
      },
      "source": [
        "iii.Calculate the page rank of each user"
      ]
    },
    {
      "cell_type": "code",
      "metadata": {
        "colab": {
          "base_uri": "https://localhost:8080/"
        },
        "id": "mdwI6L4tpfVt",
        "outputId": "18eb3c64-2cb9-4120-fff7-bc9b27a8bfbb"
      },
      "source": [
        "!pip install graphframes\n",
        "from graphframes import GraphFrame\n",
        "from pyspark.sql import SQLContext"
      ],
      "execution_count": null,
      "outputs": [
        {
          "output_type": "stream",
          "text": [
            "Requirement already satisfied: graphframes in /usr/local/lib/python3.7/dist-packages (0.6)\n",
            "Requirement already satisfied: nose in /usr/local/lib/python3.7/dist-packages (from graphframes) (1.3.7)\n",
            "Requirement already satisfied: numpy in /usr/local/lib/python3.7/dist-packages (from graphframes) (1.19.5)\n"
          ],
          "name": "stdout"
        }
      ]
    },
    {
      "cell_type": "code",
      "metadata": {
        "colab": {
          "base_uri": "https://localhost:8080/"
        },
        "id": "hyjQEFoDUXzv",
        "outputId": "b86093b0-94e6-4446-a9c4-2d424305c433"
      },
      "source": [
        "!curl -L -o \"/usr/local/lib/python3.7/dist-packages/graphframes-0.8.0-spark2.4-s_2.11.jar\" http://dl.bintray.com/spark-packages/maven/graphframes/graphframes/0.8.0-spark2.4-s_2.11/graphframes-0.8.0-spark2.4-s_2.11.jar"
      ],
      "execution_count": null,
      "outputs": [
        {
          "output_type": "stream",
          "text": [
            "  % Total    % Received % Xferd  Average Speed   Time    Time     Time  Current\n",
            "                                 Dload  Upload   Total   Spent    Left  Speed\n",
            "100    10  100    10    0     0     35      0 --:--:-- --:--:-- --:--:--    35\n"
          ],
          "name": "stdout"
        }
      ]
    },
    {
      "cell_type": "code",
      "metadata": {
        "id": "HHhJQOKkuWzj"
      },
      "source": [
        "node = spark.sql(\"\"\"SELECT DISTINCT user1 from transaction UNION SELECT DISTINCT user2 from transaction\"\"\")\n",
        "nodes = node.select(node.user1.alias('id'))"
      ],
      "execution_count": null,
      "outputs": []
    },
    {
      "cell_type": "code",
      "metadata": {
        "id": "PEsTVZP5usJb"
      },
      "source": [
        "edge = spark.sql(\"\"\"SELECT DISTINCT user1,user2 from transaction\"\"\")\n",
        "edges = edge.select(edge.user1.alias('src'),edge.user1.alias('dst'))"
      ],
      "execution_count": null,
      "outputs": []
    },
    {
      "cell_type": "code",
      "metadata": {
        "colab": {
          "base_uri": "https://localhost:8080/",
          "height": 613
        },
        "id": "VeCQr3hou5ad",
        "outputId": "fd3f3abb-70d7-4077-a15c-06f8eaeea4d9"
      },
      "source": [
        "g = GraphFrame(nodes, edges)\n",
        "results = g.pageRank(resetProbability=0.15)\n",
        "pagerank = results.vertices"
      ],
      "execution_count": null,
      "outputs": [
        {
          "output_type": "error",
          "ename": "Py4JJavaError",
          "evalue": "ignored",
          "traceback": [
            "\u001b[0;31m---------------------------------------------------------------------------\u001b[0m",
            "\u001b[0;31mPy4JJavaError\u001b[0m                             Traceback (most recent call last)",
            "\u001b[0;32m<ipython-input-62-ca32d02baa2b>\u001b[0m in \u001b[0;36m<module>\u001b[0;34m()\u001b[0m\n\u001b[0;32m----> 1\u001b[0;31m \u001b[0mg\u001b[0m \u001b[0;34m=\u001b[0m \u001b[0mGraphFrame\u001b[0m\u001b[0;34m(\u001b[0m\u001b[0mnodes\u001b[0m\u001b[0;34m,\u001b[0m \u001b[0medges\u001b[0m\u001b[0;34m)\u001b[0m\u001b[0;34m\u001b[0m\u001b[0;34m\u001b[0m\u001b[0m\n\u001b[0m\u001b[1;32m      2\u001b[0m \u001b[0mresults\u001b[0m \u001b[0;34m=\u001b[0m \u001b[0mg\u001b[0m\u001b[0;34m.\u001b[0m\u001b[0mpageRank\u001b[0m\u001b[0;34m(\u001b[0m\u001b[0mresetProbability\u001b[0m\u001b[0;34m=\u001b[0m\u001b[0;36m0.15\u001b[0m\u001b[0;34m)\u001b[0m\u001b[0;34m\u001b[0m\u001b[0;34m\u001b[0m\u001b[0m\n\u001b[1;32m      3\u001b[0m \u001b[0mpagerank\u001b[0m \u001b[0;34m=\u001b[0m \u001b[0mresults\u001b[0m\u001b[0;34m.\u001b[0m\u001b[0mvertices\u001b[0m\u001b[0;34m\u001b[0m\u001b[0;34m\u001b[0m\u001b[0m\n",
            "\u001b[0;32m/usr/local/lib/python3.7/dist-packages/graphframes/graphframe.py\u001b[0m in \u001b[0;36m__init__\u001b[0;34m(self, v, e)\u001b[0m\n\u001b[1;32m     63\u001b[0m         \u001b[0mself\u001b[0m\u001b[0;34m.\u001b[0m\u001b[0m_sqlContext\u001b[0m \u001b[0;34m=\u001b[0m \u001b[0mv\u001b[0m\u001b[0;34m.\u001b[0m\u001b[0msql_ctx\u001b[0m\u001b[0;34m\u001b[0m\u001b[0;34m\u001b[0m\u001b[0m\n\u001b[1;32m     64\u001b[0m         \u001b[0mself\u001b[0m\u001b[0;34m.\u001b[0m\u001b[0m_sc\u001b[0m \u001b[0;34m=\u001b[0m \u001b[0mself\u001b[0m\u001b[0;34m.\u001b[0m\u001b[0m_sqlContext\u001b[0m\u001b[0;34m.\u001b[0m\u001b[0m_sc\u001b[0m\u001b[0;34m\u001b[0m\u001b[0;34m\u001b[0m\u001b[0m\n\u001b[0;32m---> 65\u001b[0;31m         \u001b[0mself\u001b[0m\u001b[0;34m.\u001b[0m\u001b[0m_jvm_gf_api\u001b[0m \u001b[0;34m=\u001b[0m \u001b[0m_java_api\u001b[0m\u001b[0;34m(\u001b[0m\u001b[0mself\u001b[0m\u001b[0;34m.\u001b[0m\u001b[0m_sc\u001b[0m\u001b[0;34m)\u001b[0m\u001b[0;34m\u001b[0m\u001b[0;34m\u001b[0m\u001b[0m\n\u001b[0m\u001b[1;32m     66\u001b[0m \u001b[0;34m\u001b[0m\u001b[0m\n\u001b[1;32m     67\u001b[0m         \u001b[0mself\u001b[0m\u001b[0;34m.\u001b[0m\u001b[0mID\u001b[0m \u001b[0;34m=\u001b[0m \u001b[0mself\u001b[0m\u001b[0;34m.\u001b[0m\u001b[0m_jvm_gf_api\u001b[0m\u001b[0;34m.\u001b[0m\u001b[0mID\u001b[0m\u001b[0;34m(\u001b[0m\u001b[0;34m)\u001b[0m\u001b[0;34m\u001b[0m\u001b[0;34m\u001b[0m\u001b[0m\n",
            "\u001b[0;32m/usr/local/lib/python3.7/dist-packages/graphframes/graphframe.py\u001b[0m in \u001b[0;36m_java_api\u001b[0;34m(jsc)\u001b[0m\n\u001b[1;32m     36\u001b[0m \u001b[0;32mdef\u001b[0m \u001b[0m_java_api\u001b[0m\u001b[0;34m(\u001b[0m\u001b[0mjsc\u001b[0m\u001b[0;34m)\u001b[0m\u001b[0;34m:\u001b[0m\u001b[0;34m\u001b[0m\u001b[0;34m\u001b[0m\u001b[0m\n\u001b[1;32m     37\u001b[0m     \u001b[0mjavaClassName\u001b[0m \u001b[0;34m=\u001b[0m \u001b[0;34m\"org.graphframes.GraphFramePythonAPI\"\u001b[0m\u001b[0;34m\u001b[0m\u001b[0;34m\u001b[0m\u001b[0m\n\u001b[0;32m---> 38\u001b[0;31m     \u001b[0;32mreturn\u001b[0m \u001b[0mjsc\u001b[0m\u001b[0;34m.\u001b[0m\u001b[0m_jvm\u001b[0m\u001b[0;34m.\u001b[0m\u001b[0mThread\u001b[0m\u001b[0;34m.\u001b[0m\u001b[0mcurrentThread\u001b[0m\u001b[0;34m(\u001b[0m\u001b[0;34m)\u001b[0m\u001b[0;34m.\u001b[0m\u001b[0mgetContextClassLoader\u001b[0m\u001b[0;34m(\u001b[0m\u001b[0;34m)\u001b[0m\u001b[0;34m.\u001b[0m\u001b[0mloadClass\u001b[0m\u001b[0;34m(\u001b[0m\u001b[0mjavaClassName\u001b[0m\u001b[0;34m)\u001b[0m\u001b[0;31m \u001b[0m\u001b[0;31m\\\u001b[0m\u001b[0;34m\u001b[0m\u001b[0;34m\u001b[0m\u001b[0m\n\u001b[0m\u001b[1;32m     39\u001b[0m             \u001b[0;34m.\u001b[0m\u001b[0mnewInstance\u001b[0m\u001b[0;34m(\u001b[0m\u001b[0;34m)\u001b[0m\u001b[0;34m\u001b[0m\u001b[0;34m\u001b[0m\u001b[0m\n\u001b[1;32m     40\u001b[0m \u001b[0;34m\u001b[0m\u001b[0m\n",
            "\u001b[0;32m/content/spark-3.1.1-bin-hadoop3.2/python/lib/py4j-0.10.9-src.zip/py4j/java_gateway.py\u001b[0m in \u001b[0;36m__call__\u001b[0;34m(self, *args)\u001b[0m\n\u001b[1;32m   1303\u001b[0m         \u001b[0manswer\u001b[0m \u001b[0;34m=\u001b[0m \u001b[0mself\u001b[0m\u001b[0;34m.\u001b[0m\u001b[0mgateway_client\u001b[0m\u001b[0;34m.\u001b[0m\u001b[0msend_command\u001b[0m\u001b[0;34m(\u001b[0m\u001b[0mcommand\u001b[0m\u001b[0;34m)\u001b[0m\u001b[0;34m\u001b[0m\u001b[0;34m\u001b[0m\u001b[0m\n\u001b[1;32m   1304\u001b[0m         return_value = get_return_value(\n\u001b[0;32m-> 1305\u001b[0;31m             answer, self.gateway_client, self.target_id, self.name)\n\u001b[0m\u001b[1;32m   1306\u001b[0m \u001b[0;34m\u001b[0m\u001b[0m\n\u001b[1;32m   1307\u001b[0m         \u001b[0;32mfor\u001b[0m \u001b[0mtemp_arg\u001b[0m \u001b[0;32min\u001b[0m \u001b[0mtemp_args\u001b[0m\u001b[0;34m:\u001b[0m\u001b[0;34m\u001b[0m\u001b[0;34m\u001b[0m\u001b[0m\n",
            "\u001b[0;32m/content/spark-3.1.1-bin-hadoop3.2/python/pyspark/sql/utils.py\u001b[0m in \u001b[0;36mdeco\u001b[0;34m(*a, **kw)\u001b[0m\n\u001b[1;32m    109\u001b[0m     \u001b[0;32mdef\u001b[0m \u001b[0mdeco\u001b[0m\u001b[0;34m(\u001b[0m\u001b[0;34m*\u001b[0m\u001b[0ma\u001b[0m\u001b[0;34m,\u001b[0m \u001b[0;34m**\u001b[0m\u001b[0mkw\u001b[0m\u001b[0;34m)\u001b[0m\u001b[0;34m:\u001b[0m\u001b[0;34m\u001b[0m\u001b[0;34m\u001b[0m\u001b[0m\n\u001b[1;32m    110\u001b[0m         \u001b[0;32mtry\u001b[0m\u001b[0;34m:\u001b[0m\u001b[0;34m\u001b[0m\u001b[0;34m\u001b[0m\u001b[0m\n\u001b[0;32m--> 111\u001b[0;31m             \u001b[0;32mreturn\u001b[0m \u001b[0mf\u001b[0m\u001b[0;34m(\u001b[0m\u001b[0;34m*\u001b[0m\u001b[0ma\u001b[0m\u001b[0;34m,\u001b[0m \u001b[0;34m**\u001b[0m\u001b[0mkw\u001b[0m\u001b[0;34m)\u001b[0m\u001b[0;34m\u001b[0m\u001b[0;34m\u001b[0m\u001b[0m\n\u001b[0m\u001b[1;32m    112\u001b[0m         \u001b[0;32mexcept\u001b[0m \u001b[0mpy4j\u001b[0m\u001b[0;34m.\u001b[0m\u001b[0mprotocol\u001b[0m\u001b[0;34m.\u001b[0m\u001b[0mPy4JJavaError\u001b[0m \u001b[0;32mas\u001b[0m \u001b[0me\u001b[0m\u001b[0;34m:\u001b[0m\u001b[0;34m\u001b[0m\u001b[0;34m\u001b[0m\u001b[0m\n\u001b[1;32m    113\u001b[0m             \u001b[0mconverted\u001b[0m \u001b[0;34m=\u001b[0m \u001b[0mconvert_exception\u001b[0m\u001b[0;34m(\u001b[0m\u001b[0me\u001b[0m\u001b[0;34m.\u001b[0m\u001b[0mjava_exception\u001b[0m\u001b[0;34m)\u001b[0m\u001b[0;34m\u001b[0m\u001b[0;34m\u001b[0m\u001b[0m\n",
            "\u001b[0;32m/content/spark-3.1.1-bin-hadoop3.2/python/lib/py4j-0.10.9-src.zip/py4j/protocol.py\u001b[0m in \u001b[0;36mget_return_value\u001b[0;34m(answer, gateway_client, target_id, name)\u001b[0m\n\u001b[1;32m    326\u001b[0m                 raise Py4JJavaError(\n\u001b[1;32m    327\u001b[0m                     \u001b[0;34m\"An error occurred while calling {0}{1}{2}.\\n\"\u001b[0m\u001b[0;34m.\u001b[0m\u001b[0;34m\u001b[0m\u001b[0;34m\u001b[0m\u001b[0m\n\u001b[0;32m--> 328\u001b[0;31m                     format(target_id, \".\", name), value)\n\u001b[0m\u001b[1;32m    329\u001b[0m             \u001b[0;32melse\u001b[0m\u001b[0;34m:\u001b[0m\u001b[0;34m\u001b[0m\u001b[0;34m\u001b[0m\u001b[0m\n\u001b[1;32m    330\u001b[0m                 raise Py4JError(\n",
            "\u001b[0;31mPy4JJavaError\u001b[0m: An error occurred while calling o256.loadClass.\n: java.lang.ClassNotFoundException: org.graphframes.GraphFramePythonAPI\n\tat java.net.URLClassLoader.findClass(URLClassLoader.java:382)\n\tat java.lang.ClassLoader.loadClass(ClassLoader.java:418)\n\tat java.lang.ClassLoader.loadClass(ClassLoader.java:351)\n\tat sun.reflect.NativeMethodAccessorImpl.invoke0(Native Method)\n\tat sun.reflect.NativeMethodAccessorImpl.invoke(NativeMethodAccessorImpl.java:62)\n\tat sun.reflect.DelegatingMethodAccessorImpl.invoke(DelegatingMethodAccessorImpl.java:43)\n\tat java.lang.reflect.Method.invoke(Method.java:498)\n\tat py4j.reflection.MethodInvoker.invoke(MethodInvoker.java:244)\n\tat py4j.reflection.ReflectionEngine.invoke(ReflectionEngine.java:357)\n\tat py4j.Gateway.invoke(Gateway.java:282)\n\tat py4j.commands.AbstractCommand.invokeMethod(AbstractCommand.java:132)\n\tat py4j.commands.CallCommand.execute(CallCommand.java:79)\n\tat py4j.GatewayConnection.run(GatewayConnection.java:238)\n\tat java.lang.Thread.run(Thread.java:748)\n"
          ]
        }
      ]
    },
    {
      "cell_type": "code",
      "metadata": {
        "id": "Ik-9eOMcKLue"
      },
      "source": [
        "fof.write.csv('fof.csv')"
      ],
      "execution_count": null,
      "outputs": []
    },
    {
      "cell_type": "code",
      "metadata": {
        "id": "7Nrzf-6dKOjW"
      },
      "source": [
        "friendsnum.write.csv('friendsnum.csv')"
      ],
      "execution_count": null,
      "outputs": []
    },
    {
      "cell_type": "code",
      "metadata": {
        "id": "SWom01i06pBI"
      },
      "source": [
        "main_friend.write.csv('main_friends.csv')"
      ],
      "execution_count": null,
      "outputs": []
    }
  ]
}